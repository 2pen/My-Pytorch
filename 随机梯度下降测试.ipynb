{
 "cells": [
  {
   "cell_type": "code",
   "execution_count": 4,
   "metadata": {
    "collapsed": false
   },
   "outputs": [
    {
     "data": {
      "image/png": "[encoded data removed]",
      "text/plain": [
       "<matplotlib.figure.Figure at 0x2273975e978>"
      ]
     },
     "metadata": {},
     "output_type": "display_data"
    }
   ],
   "source": [
    "import random\n",
    "import numpy as np\n",
    "import matplotlib.pyplot as plt\n",
    "x_data=[1.0,2.0,3.0]\n",
    "y_data=[2.0,4.0,6.0]\n",
    "\n",
    "t=100\n",
    "\n",
    "def y_hat(x):\n",
    "    return x*w\n",
    "\n",
    "def loss(x,y):\n",
    "    return (y_hat(x)-y)**2\n",
    "\n",
    "def gradient(x,y):\n",
    "    return 2*x*(x*w-y)\n",
    "\n",
    "w=4.0\n",
    "a=0.01\n",
    "loss_list=[]\n",
    "x_list=[]\n",
    "\n",
    "\n",
    "\n",
    "\n",
    "#完全随机\n",
    "for _ in range(t):\n",
    "    random_num = random.randint(0,2)\n",
    "    for (x,y) in zip(x_data,y_data):\n",
    "        if(random_num==0):\n",
    "            w-=a*gradient(x,y)\n",
    "            loss_list.append(loss(x,y))\n",
    "            break\n",
    "        elif (random_num==1):\n",
    "            random_num-=1\n",
    "            continue\n",
    "        else:\n",
    "            random_num-=1\n",
    "            continue\n",
    "\n",
    "time=np.arange(0,t,1)\n",
    "plt.plot(time,loss_list)\n",
    "plt.show()"
   ]
  }
 ],
 "metadata": {
  "kernelspec": {
   "display_name": "Python [default]",
   "language": "python",
   "name": "python3"
  },
  "language_info": {
   "codemirror_mode": {
    "name": "ipython",
    "version": 3
   },
   "file_extension": ".py",
   "mimetype": "text/x-python",
   "name": "python",
   "nbconvert_exporter": "python",
   "pygments_lexer": "ipython3",
   "version": "3.5.2"
  }
 },
 "nbformat": 4,
 "nbformat_minor": 1
}
